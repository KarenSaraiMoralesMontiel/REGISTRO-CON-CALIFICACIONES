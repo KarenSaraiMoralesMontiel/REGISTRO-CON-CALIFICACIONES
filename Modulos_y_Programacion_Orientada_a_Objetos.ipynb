{
  "cells": [
    {
      "cell_type": "markdown",
      "metadata": {
        "id": "view-in-github",
        "colab_type": "text"
      },
      "source": [
        "<a href=\"https://colab.research.google.com/github/KarenSaraiMoralesMontiel/REGISTRO-CON-CALIFICACIONES/blob/main/Modulos_y_Programacion_Orientada_a_Objetos.ipynb\" target=\"_parent\"><img src=\"https://colab.research.google.com/assets/colab-badge.svg\" alt=\"Open In Colab\"/></a>"
      ]
    },
    {
      "cell_type": "markdown",
      "metadata": {
        "id": "33vbQPGhm3lh"
      },
      "source": [
        "# Módulos"
      ]
    },
    {
      "cell_type": "markdown",
      "metadata": {
        "id": "gPDf5EAF9a7g"
      },
      "source": [
        "### &#9998; Construye una clase \"Registro de estudiante\" que herede de la clase \"Persona\"\n",
        "\n",
        "<img src=\"https://drive.google.com/uc?id=1q4YFtlV75p1QLkYLXpvPCnyR10a4g_5d\" width=600>"
      ]
    },
    {
      "cell_type": "code",
      "source": [
        "from datetime import date\n",
        "\n",
        "class Persona:\n",
        "    def __init__(self, nombre = \"Sin nombre\", apellido = \"Sin apellido\", fecha_nacimiento = (1900, 1, 1)):\n",
        "        self.nombre = nombre\n",
        "        self.apellido = apellido\n",
        "        self.fecha_nacimiento = date(*fecha_nacimiento)\n",
        "\n",
        "    def saludos(self):\n",
        "        print(\"Saludos, soy\", self.nombre, self.apellido)\n",
        "\n",
        "    def calcula_edad(self):\n",
        "        today = date.today()\n",
        "        edad = int((today - self.fecha_nacimiento).days / 365)\n",
        "        return edad\n",
        "\n",
        "class Estudiante(Persona):\n",
        "    def __init__(self, nombre = \"Sin nombre\", apellido = \"Sin apellido\", fecha_nacimiento = (1900, 1, 1),\n",
        "                 semestre:int = 1):\n",
        "        super().__init__(nombre, apellido, fecha_nacimiento)\n",
        "        self.semestre = semestre\n",
        "        self.materias = []\n",
        "        self.calificaciones = {}\n",
        "        self.__meses__ = {1:\"Enero\",2:\"Febrero\",3:\"Marzo\",4:\"Abril\",5:\"Mayo\",\\\n",
        "                          6:\"Junio\",7:\"Julio\",8:\"Agosto\",9:\"Septiembre\",\\\n",
        "                            10:\"Octubre\",11:\"Noviembre\",12:\"Diciembre\"}\n",
        "        self.promedio = 0\n",
        "\n",
        "    def setMatricula(self):\n",
        "        if self.fecha_nacimiento.year == 1900:\n",
        "            print(\"Error: Fecha de nacimiento inválida\")\n",
        "        else:\n",
        "            self.matricula = str(self.fecha_nacimiento.year) + self.nombre[:2] + self.apellido[:2]\n",
        "        return\n",
        "\n",
        "    def getMatricula(self):\n",
        "        return self.matricula\n",
        "\n",
        "    def setFechaIngreso(self,fecha:tuple):\n",
        "        self.fecha_ingreso = date(*fecha)\n",
        "        return\n",
        "\n",
        "    def setSemestre(self,semestre:int=1):\n",
        "        self.semestre = semestre\n",
        "        return\n",
        "\n",
        "    def getFechaIngreso(self):\n",
        "        anio = self.fecha_ingreso.year\n",
        "        mes = self.fecha_ingreso.month\n",
        "        dia = self.fecha_ingreso.day\n",
        "        print(f\"El estudiante {self.nombre} {self.apellido} ingresó el {dia} de {self.__meses__[mes]} de {anio}\")\n",
        "        return\n",
        "\n",
        "class Registro():\n",
        "    def __init__(self,*args:Estudiante,**kwargs):\n",
        "        # print('args =',args, 'kwargs =',kwargs, *kwargs.get(\"estudiante\"))\n",
        "        if kwargs.get(\"estudiante\") != None:\n",
        "            self.estudiante = Estudiante(*kwargs.get(\"estudiante\"))\n",
        "        else:\n",
        "            self.estudiante = args[0] # objeto de tipo Estudiante\n",
        "\n",
        "    def setCalificaciones(self,**kwargs):\n",
        "        if len(kwargs) ==0:\n",
        "            print(\"Error: Ningún registro de calificaciones proporcionado\")\n",
        "        else:\n",
        "            if kwargs.get('registros') != None:\n",
        "                if len(kwargs.get('registros')) == 0:\n",
        "                    print(\"Error: Ningún registro de calificaciones proporcionado\")\n",
        "                else:\n",
        "                    registros = kwargs.get('registros')\n",
        "                    for r in registros:\n",
        "                        self.estudiante.calificaciones[r[0]] = r[1]\n",
        "                    self.getPromedio()\n",
        "\n",
        "            elif kwargs.get('materias') != None:\n",
        "                materias = kwargs.get('materias')\n",
        "                for materia in materias.keys():\n",
        "                    self.estudiante.calificaciones[materia] = materias[materia]\n",
        "                self.getPromedio()\n",
        "        return\n",
        "\n",
        "    def printCalificaciones(self):\n",
        "        if len(self.estudiante.calificaciones) == 0:\n",
        "            print(\"Error: no se han capturado calificaciones\")\n",
        "        else:\n",
        "            print(f\"{self.estudiante.nombre} {self.estudiante.apellido} \\nSemestre: {self.estudiante.semestre}\")\n",
        "            for m in self.estudiante.calificaciones.keys():\n",
        "                print(f\"{m}: {self.estudiante.calificaciones[m]}\")\n",
        "            print(f\"Promedio: {self.estudiante.promedio}\")\n",
        "        return\n",
        "\n",
        "    def getPromedio(self):\n",
        "        if len(self.estudiante.calificaciones) == 0:\n",
        "            print(\"Error: no se han capturado calificaciones\")\n",
        "        else:\n",
        "            avg = 0\n",
        "            for m in self.estudiante.calificaciones.keys():\n",
        "                avg += float(self.estudiante.calificaciones[m])\n",
        "            self.estudiante.promedio = round(avg/len(self.estudiante.calificaciones), 2)\n",
        "        return self.estudiante.promedio\n"
      ],
      "metadata": {
        "id": "GTE7NS8LfJcO"
      },
      "execution_count": null,
      "outputs": []
    },
    {
      "cell_type": "markdown",
      "source": [],
      "metadata": {
        "id": "_hhDvGqUGD1x"
      }
    },
    {
      "cell_type": "code",
      "source": [
        "def getEstudiante(nombre, apellido, registros: list):\n",
        "  for i,r in enumerate(registros):\n",
        "    if r.estudiante.nombre.split() == nombre and r.estudiante.apellido.split() == apellido:\n",
        "      return i\n",
        "      break\n",
        "  return"
      ],
      "metadata": {
        "id": "ZqNXqYJXFbAt"
      },
      "execution_count": null,
      "outputs": []
    },
    {
      "cell_type": "code",
      "source": [
        "import requests\n",
        "import re\n",
        "from pprint import pprint\n",
        "import os\n",
        "\n",
        "github_rep_url = 'https://github.com/DCDPUAEM/DCDP/tree/main/01%20Programaci%C3%B3n%20en%20Python/notebooks/sample_data'\n",
        "# Fetch file list from the GitHub repository\n",
        "response = requests.get(github_rep_url)\n",
        "file_list_json = response.json()['payload']['tree']['items']\n",
        "\n",
        "file_list_filtered = [item for item in file_list_json if (re.match(r'^c.*\\d+\\.csv$', item['name']) or re.match(r'^estudiantes.csv$', item['name']))]\n",
        "\n",
        "folder_path = 'registros_info'\n",
        "if not os.path.exists(folder_path):\n",
        "  os.makedirs(folder_path)\n",
        "\n",
        "for file in file_list_filtered:\n",
        "  response = requests.get(f'{github_rep_url}/{file[\"name\"]}')\n",
        "  file_path = os.path.join(folder_path, file['name'])\n",
        "  if response.status_code == 200 and not os.path.exists(file_path):\n",
        "    file_path_github = f\"https://raw.githubusercontent.com/DCDPUAEM/DCDP/main/01%20Programaci%C3%B3n%20en%20Python/notebooks/sample_data/{file['name']}\"\n",
        "    with open(file_path, 'wb') as f:\n",
        "      f.write(requests.get(file_path_github).content)"
      ],
      "metadata": {
        "id": "E4XP3nPd_8H3"
      },
      "execution_count": null,
      "outputs": []
    },
    {
      "cell_type": "code",
      "source": [
        "import csv\n",
        "\n",
        "estudiantes = []\n",
        "\n",
        "with open(\"registros_info/estudiantes.csv\") as archivo:\n",
        "    registros = csv.reader(archivo, delimiter=',',quotechar=',')\n",
        "    for r in list(registros)[1:]:\n",
        "        fecha_nac = (int(r[3][2:]),int(r[4]),int(r[5][:-2]))\n",
        "        estudiantes.append([r[1],r[2],fecha_nac])\n",
        "\n",
        "print(estudiantes)"
      ],
      "metadata": {
        "colab": {
          "base_uri": "https://localhost:8080/"
        },
        "id": "XEM9AJHEAFAH",
        "outputId": "77cb3f9e-3787-4d7b-94b5-267b12414b62"
      },
      "execution_count": null,
      "outputs": [
        {
          "output_type": "stream",
          "name": "stdout",
          "text": [
            "[['Juan', 'Perez', (1999, 2, 26)], ['Ana', 'Aranda', (1998, 5, 7)], ['Luis', 'Rojas', (2000, 12, 5)], ['Diana', 'Valenzo', (2001, 6, 14)], ['Lorena', 'Diaz', (1999, 4, 3)], ['Jorge', 'Diaz', (1999, 8, 23)], ['Gonzalo', 'Vega', (2000, 7, 16)], ['Rodrigo', 'Hernandez', (2001, 9, 30)], ['Carmela', 'Hernandez', (2000, 3, 12)], ['Veronica', 'Neri', (1998, 12, 22)], ['Antonio', 'Gamboa', (1999, 11, 13)], ['Luis', 'Gonzalez', (1998, 6, 4)]]\n"
          ]
        }
      ]
    },
    {
      "cell_type": "code",
      "source": [
        "registros = []\n",
        "for e in estudiantes:\n",
        "  registros.append(Registro(estudiante=e))\n",
        "\n",
        "for r in registros:\n",
        "  print(r.estudiante.nombre, r.estudiante.apellido)"
      ],
      "metadata": {
        "colab": {
          "base_uri": "https://localhost:8080/"
        },
        "id": "cLsbth3sDSXC",
        "outputId": "642e233c-3453-458f-ce04-2731df65a033"
      },
      "execution_count": null,
      "outputs": [
        {
          "output_type": "stream",
          "name": "stdout",
          "text": [
            "Juan Perez\n",
            "Ana Aranda\n",
            "Luis Rojas\n",
            "Diana Valenzo\n",
            "Lorena Diaz\n",
            "Jorge Diaz\n",
            "Gonzalo Vega\n",
            "Rodrigo Hernandez\n",
            "Carmela Hernandez\n",
            "Veronica Neri\n",
            "Antonio Gamboa\n",
            "Luis Gonzalez\n"
          ]
        }
      ]
    },
    {
      "cell_type": "code",
      "source": [
        "\n",
        "file_list = os.listdir(folder_path)\n",
        "filtered_files = [file_name for file_name in file_list if re.match(r'^c.*\\d+\\.csv$', file_name)]\n",
        "\n",
        "print(filtered_files)\n"
      ],
      "metadata": {
        "colab": {
          "base_uri": "https://localhost:8080/"
        },
        "id": "LGpf_CcCAu9w",
        "outputId": "7eef0c2c-7349-4866-c9f6-bee17350fbb6"
      },
      "execution_count": null,
      "outputs": [
        {
          "output_type": "stream",
          "name": "stdout",
          "text": [
            "['c4.csv', 'c5.csv', 'c10.csv', 'c8.csv', 'c11.csv', 'c6.csv', 'c7.csv', 'c3.csv', 'c12.csv', 'c2.csv', 'c1.csv', 'c9.csv']\n"
          ]
        }
      ]
    },
    {
      "cell_type": "code",
      "source": [
        "\n",
        "file_list = os.listdir(folder_path)\n",
        "filtered_files = [file_name for file_name in file_list if re.match(r'^c.*\\d+\\.csv$', file_name)]\n",
        "\n",
        "def extract_number(file_name):\n",
        "    return int(re.search(r'\\d+', file_name).group())\n",
        "\n",
        "filtered_files = sorted(filtered_files, key=extract_number)\n",
        "\n",
        "for i, filtered_file in enumerate(filtered_files):\n",
        "  materias = {}\n",
        "  with open(f\"registros_info/{filtered_file}\", 'r') as archivo:\n",
        "    registros_rows = csv.reader(archivo, delimiter=',',quotechar=',')\n",
        "    header = next(registros_rows)\n",
        "    name, surname = header[0].split(\" \")\n",
        "    semestre = header[2]\n",
        "    registros[i].estudiante.semestre = semestre\n",
        "    for row in registros_rows:\n",
        "      materias[row[0]] = row[1]\n",
        "    registros[i].setCalificaciones(materias = materias)\n",
        "    registros[i].printCalificaciones()\n",
        "\n"
      ],
      "metadata": {
        "colab": {
          "base_uri": "https://localhost:8080/"
        },
        "id": "k3gqb9LEAUbT",
        "outputId": "e416330a-854b-47b0-e53c-66baddd6a8f8"
      },
      "execution_count": null,
      "outputs": [
        {
          "output_type": "stream",
          "name": "stdout",
          "text": [
            "Juan Perez \n",
            "Semestre: 1\n",
            "algebra moderna: 6\n",
            "calculo 1: 7\n",
            "lectura y redaccion: 9\n",
            "programacion 1: 8\n",
            "vida y sociedad: 10\n",
            "Promedio: 8.0\n",
            "Ana Aranda \n",
            "Semestre: 2\n",
            "algebra lineal: 9\n",
            "calculo 2: 10\n",
            "programacion 2: 10\n",
            "fisica: 8\n",
            "historia y geografia: 10\n",
            "Promedio: 9.4\n",
            "Luis Rojas \n",
            "Semestre: 4\n",
            "inteligencia artificial: 7\n",
            "logica: 7\n",
            "programacion 3: 6\n",
            "probabilidad: 7\n",
            "graficacion: 6\n",
            "Promedio: 6.6\n",
            "Diana Valenzo \n",
            "Semestre: 2\n",
            "algebra lineal: 5\n",
            "calculo 2: 6\n",
            "programacion 2: 6\n",
            "fisica: 7\n",
            "historia y geografia: 8\n",
            "Promedio: 6.4\n",
            "Lorena Diaz \n",
            "Semestre: 2\n",
            "algebra lineal: 5\n",
            "calculo 2: 6\n",
            "programacion 2: 6\n",
            "fisica: 7\n",
            "historia y geografia: 8\n",
            "Promedio: 6.4\n",
            "Jorge Diaz \n",
            "Semestre: 4\n",
            "inteligencia artificial: 9\n",
            "logica: 9\n",
            "programacion 3: 9\n",
            "probabilidad: 10\n",
            "graficacion: 10\n",
            "Promedio: 9.4\n",
            "Gonzalo Vega \n",
            "Semestre: 2\n",
            "algebra lineal: 8\n",
            "calculo 2: 7\n",
            "programacion 2: 6\n",
            "fisica: 6\n",
            "historia y geografia: 8\n",
            "Promedio: 7.0\n",
            "Rodrigo Hernandez \n",
            "Semestre: 1\n",
            "algebra moderna: 8\n",
            "calculo 1: 5\n",
            "lectura y redaccion: 7\n",
            "programacion 1: 7\n",
            "vida y sociedad: 9\n",
            "Promedio: 7.2\n",
            "Carmela Hernandez \n",
            "Semestre: 2\n",
            "algebra lineal: 8\n",
            "calculo 2: 8\n",
            "programacion 2: 9\n",
            "fisica: 6\n",
            "historia y geografia: 8\n",
            "Promedio: 7.8\n",
            "Veronica Neri \n",
            "Semestre: 4\n",
            "inteligencia artificial: 6\n",
            "logica: 6\n",
            "programacion 3: 5\n",
            "probabilidad: 4\n",
            "graficacion: 6\n",
            "Promedio: 5.4\n",
            "Antonio Gamboa \n",
            "Semestre: 7\n",
            "etica: 9\n",
            "optativa 1: 7\n",
            "optativa 2: 5\n",
            "redes neuronales: 6\n",
            "seminario 2: 8\n",
            "Promedio: 7.0\n",
            "Luis Gonzalez \n",
            "Semestre: 2\n",
            "algebra lineal: 8\n",
            "calculo 2: 10\n",
            "programacion 2: 10\n",
            "fisica: 8\n",
            "historia y geografia: 9\n",
            "Promedio: 9.0\n"
          ]
        }
      ]
    },
    {
      "cell_type": "markdown",
      "metadata": {
        "id": "IZn_UEataZP3"
      },
      "source": [
        "# ¡Felicidades!\n",
        "\n",
        "Ahora conoces los conceptos básicos sobre módulos, clases y objetos en Python.\n",
        "\n",
        "Recuerda que siempre puedes volver a esta notebook en caso de que necesites un recordatorio."
      ]
    }
  ],
  "metadata": {
    "colab": {
      "provenance": [],
      "include_colab_link": true
    },
    "kernelspec": {
      "display_name": "Python 3 (ipykernel)",
      "language": "python",
      "name": "python3"
    },
    "language_info": {
      "codemirror_mode": {
        "name": "ipython",
        "version": 3
      },
      "file_extension": ".py",
      "mimetype": "text/x-python",
      "name": "python",
      "nbconvert_exporter": "python",
      "pygments_lexer": "ipython3",
      "version": "3.7.11"
    }
  },
  "nbformat": 4,
  "nbformat_minor": 0
}