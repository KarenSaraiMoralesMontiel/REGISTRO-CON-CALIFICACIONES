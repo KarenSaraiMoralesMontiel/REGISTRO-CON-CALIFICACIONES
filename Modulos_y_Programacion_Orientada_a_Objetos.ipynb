{
  "cells": [
    {
      "cell_type": "markdown",
      "metadata": {
        "id": "view-in-github",
        "colab_type": "text"
      },
      "source": [
        "<a href=\"https://colab.research.google.com/github/KarenSaraiMoralesMontiel/REGISTRO-CON-CALIFICACIONES/blob/main/Modulos_y_Programacion_Orientada_a_Objetos.ipynb\" target=\"_parent\"><img src=\"https://colab.research.google.com/assets/colab-badge.svg\" alt=\"Open In Colab\"/></a>"
      ]
    },
    {
      "cell_type": "markdown",
      "metadata": {
        "id": "33vbQPGhm3lh"
      },
      "source": [
        "# Módulos"
      ]
    },
    {
      "cell_type": "markdown",
      "metadata": {
        "id": "gPDf5EAF9a7g"
      },
      "source": [
        "### &#9998; Construye una clase \"Registro de estudiante\" que herede de la clase \"Persona\"\n",
        "\n",
        "<img src=\"https://drive.google.com/uc?id=1q4YFtlV75p1QLkYLXpvPCnyR10a4g_5d\" width=600>"
      ]
    },
    {
      "cell_type": "code",
      "source": [
        "from datetime import date\n",
        "\n",
        "class Persona:\n",
        "    def __init__(self, nombre = \"Sin nombre\", apellido = \"Sin apellido\", fecha_nacimiento = (1900, 1, 1)):\n",
        "        self.nombre = nombre\n",
        "        self.apellido = apellido\n",
        "        self.fecha_nacimiento = date(*fecha_nacimiento)\n",
        "\n",
        "    def saludos(self):\n",
        "        print(\"Saludos, soy\", self.nombre, self.apellido)\n",
        "\n",
        "    def calcula_edad(self):\n",
        "        today = date.today()\n",
        "        edad = int((today - self.fecha_nacimiento).days / 365)\n",
        "        return edad\n",
        "\n",
        "class Estudiante(Persona):\n",
        "    def __init__(self, nombre = \"Sin nombre\", apellido = \"Sin apellido\", fecha_nacimiento = (1900, 1, 1),\n",
        "                 semestre:int = 1):\n",
        "        super().__init__(nombre, apellido, fecha_nacimiento)\n",
        "        self.semestre = semestre\n",
        "        self.materias = []\n",
        "        self.calificaciones = {}\n",
        "        self.__meses__ = {1:\"Enero\",2:\"Febrero\",3:\"Marzo\",4:\"Abril\",5:\"Mayo\",\\\n",
        "                          6:\"Junio\",7:\"Julio\",8:\"Agosto\",9:\"Septiembre\",\\\n",
        "                            10:\"Octubre\",11:\"Noviembre\",12:\"Diciembre\"}\n",
        "        self.promedio = 0\n",
        "\n",
        "    def setMatricula(self):\n",
        "        if self.fecha_nacimiento.year == 1900:\n",
        "            print(\"Error: Fecha de nacimiento inválida\")\n",
        "        else:\n",
        "            self.matricula = str(self.fecha_nacimiento.year) + self.nombre[:2] + self.apellido[:2]\n",
        "        return\n",
        "\n",
        "    def getMatricula(self):\n",
        "        return self.matricula\n",
        "\n",
        "    def setFechaIngreso(self,fecha:tuple):\n",
        "        self.fecha_ingreso = date(*fecha)\n",
        "        return\n",
        "\n",
        "    def setSemestre(self,semestre:int=1):\n",
        "        self.semestre = semestre\n",
        "        return\n",
        "\n",
        "    def getFechaIngreso(self):\n",
        "        anio = self.fecha_ingreso.year\n",
        "        mes = self.fecha_ingreso.month\n",
        "        dia = self.fecha_ingreso.day\n",
        "        print(f\"El estudiante {self.nombre} {self.apellido} ingresó el {dia} de {self.__meses__[mes]} de {anio}\")\n",
        "        return\n",
        "\n",
        "class Registro():\n",
        "    def __init__(self,*args:Estudiante,**kwargs):\n",
        "        # print('args =',args, 'kwargs =',kwargs, *kwargs.get(\"estudiante\"))\n",
        "        if kwargs.get(\"estudiante\") != None:\n",
        "            self.estudiante = Estudiante(*kwargs.get(\"estudiante\"))\n",
        "        else:\n",
        "            self.estudiante = args[0] # objeto de tipo Estudiante\n",
        "\n",
        "    def setCalificaciones(self,**kwargs):\n",
        "        if len(kwargs) ==0:\n",
        "            print(\"Error: Ningún registro de calificaciones proporcionado\")\n",
        "        else:\n",
        "            if kwargs.get('registros') != None:\n",
        "                if len(kwargs.get('registros')) == 0:\n",
        "                    print(\"Error: Ningún registro de calificaciones proporcionado\")\n",
        "                else:\n",
        "                    registros = kwargs.get('registros')\n",
        "                    for r in registros:\n",
        "                        self.estudiante.calificaciones[r[0]] = r[1]\n",
        "\n",
        "            elif kwargs.get('materias') != None and kwargs.get('calificaciones') != None:\n",
        "                materias = kwargs.get('materias')\n",
        "                califs = kwargs.get('calificaciones')\n",
        "                if len(materias) != len(califs):\n",
        "                    print(\"Error: no hay correspondencia entre el número de materias y el número de calificaciones\")\n",
        "                else:\n",
        "                    for m,c in zip(materias,califs):\n",
        "                        self.estudiante.calificaciones[m] = c\n",
        "        return\n",
        "\n",
        "    def printCalificaciones(self):\n",
        "        if len(self.estudiante.calificaciones) == 0:\n",
        "            print(\"Error: no se han capturado calificaciones\")\n",
        "        else:\n",
        "            for m in self.estudiante.calificaciones.keys():\n",
        "                print(f\"{m}: {self.estudiante.calificaciones[m]}\")\n",
        "        return\n",
        "\n",
        "    def getPromedio(self):\n",
        "        if len(self.estudiante.calificaciones) == 0:\n",
        "            print(\"Error: no se han capturado calificaciones\")\n",
        "        else:\n",
        "            avg = 0\n",
        "            for m in self.estudiante.calificaciones.keys():\n",
        "                avg += float(self.estudiante.calificaciones[m])\n",
        "            self.estudiante.promedio = round(avg/len(self.estudiante.calificaciones), 2)\n",
        "        return self.estudiante.promedio\n"
      ],
      "metadata": {
        "id": "GTE7NS8LfJcO"
      },
      "execution_count": 0,
      "outputs": []
    },
    {
      "cell_type": "code",
      "source": [
        "# Cargar el modulo desde el repositorio de github\n",
        "!curl --remote-name \\\n",
        "     -H 'Accept: application/vnd.github.v3.raw' \\\n",
        "     --location https://raw.githubusercontent.com/DCDPUAEM/DCDP/main/01%20Programaci%C3%B3n%20en%20Python/notebooks/estudiantes.csv"
      ],
      "metadata": {
        "colab": {
          "base_uri": "https://localhost:8080/"
        },
        "id": "E4XP3nPd_8H3",
        "outputId": "596e3aed-4127-4407-bc43-d383f99e75c5"
      },
      "execution_count": 8,
      "outputs": [
        {
          "output_type": "stream",
          "name": "stdout",
          "text": [
            "  % Total    % Received % Xferd  Average Speed   Time    Time     Time  Current\n",
            "                                 Dload  Upload   Total   Spent    Left  Speed\n",
            "100   434  100   434    0     0   2705      0 --:--:-- --:--:-- --:--:--  2712\n"
          ]
        }
      ]
    },
    {
      "cell_type": "code",
      "source": [
        "import csv\n",
        "\n",
        "estudiantes = []\n",
        "\n",
        "with open(\"estudiantes.csv\") as archivo:\n",
        "    registros = csv.reader(archivo, delimiter=',',quotechar=',')\n",
        "    for r in list(registros)[1:]:\n",
        "        fecha_nac = (int(r[3][2:]),int(r[4]),int(r[5][:-2]))\n",
        "        estudiantes.append([r[1],r[2],fecha_nac,int(r[6])])\n",
        "\n",
        "print(estudiantes)"
      ],
      "metadata": {
        "colab": {
          "base_uri": "https://localhost:8080/"
        },
        "id": "XEM9AJHEAFAH",
        "outputId": "1b556939-0ab3-417d-f91d-ec5a42b953cf"
      },
      "execution_count": 9,
      "outputs": [
        {
          "output_type": "stream",
          "name": "stdout",
          "text": [
            "[['Juan', 'Perez', (1999, 2, 26), 6], ['Ana', 'Aranda', (1998, 5, 7), 7], ['Luis', 'Riojas', (2000, 12, 5), 5], ['Diana', 'Valenzo', (2001, 6, 14), 4], ['Lorena', 'Diaz', (1999, 4, 3), 6], ['Jorge', 'Diaz', (1999, 8, 23), 6], ['Gonzalo', 'Vega', (2000, 7, 16), 6], ['Rodrigo', 'Hernandez', (2001, 9, 30), 4], ['Carmela', 'Valadez', (2000, 3, 12), 5], ['Veronica', 'Neri', (1998, 12, 22), 8], ['Antonio', 'Gamboa', (1999, 11, 13), 7], ['Luis', 'Gonzalez', (1998, 6, 4), 8]]\n"
          ]
        }
      ]
    },
    {
      "cell_type": "code",
      "source": [
        "registros = []\n",
        "for e in estudiantes:\n",
        "  registros.append(Registro(estudiante=e))\n",
        "\n",
        "for r in registros:\n",
        "  print(r.estudiante.nombre, end=' ')"
      ],
      "metadata": {
        "colab": {
          "base_uri": "https://localhost:8080/"
        },
        "id": "cLsbth3sDSXC",
        "outputId": "623d270c-1d3f-43b8-f873-96bb2cd3057c"
      },
      "execution_count": 10,
      "outputs": [
        {
          "output_type": "stream",
          "name": "stdout",
          "text": [
            "Juan Ana Luis Diana Lorena Jorge Gonzalo Rodrigo Carmela Veronica Antonio Luis "
          ]
        }
      ]
    },
    {
      "cell_type": "code",
      "source": [
        "archivos = [\"Juan_Perez.csv\", \"Ana_Aranda.csv\",\"Luis_Riojas.csv\", \"Diana_Valenzo.csv\", \"Lorena_Diaz.csv\"]\n",
        "\n",
        "for index, file in enumerate(archivos):\n",
        "  #I use the encoding windows-1252 to use tildes\n",
        "  with open(file, encoding='windows-1252') as archivo:\n",
        "    #Set the list of materias and calificaciones\n",
        "    mat = []\n",
        "    calf = []\n",
        "    #Read the whole life\n",
        "    registros_data = csv.reader(archivo, delimiter=',',quotechar=',')\n",
        "    #Get HEader\n",
        "    header = next(registros_data)\n",
        "    mat.extend(header[1:])\n",
        "    #Get SCores\n",
        "    calificaciones_row = next(registros_data)\n",
        "    calf.extend(calificaciones_row[1:])\n",
        "    #Get name and surname\n",
        "    name, surname = file.replace(\".csv\", \"\").split(\"_\")\n",
        "    #Set scores\n",
        "    registros[index].setCalificaciones(materias=mat, calificaciones = calf)\n",
        "    #Print scores to check\n",
        "    registros[index].printCalificaciones()\n",
        "\n",
        "    #Get the average\n",
        "    promedio = registros[index].getPromedio()\n",
        "\n",
        "    #Output result\n",
        "    print(f\"{name} {surname} tiene un promedio de : {promedio}\")"
      ],
      "metadata": {
        "colab": {
          "base_uri": "https://localhost:8080/"
        },
        "id": "k3gqb9LEAUbT",
        "outputId": "1a568e10-df7c-4a53-a670-6f91d00d1fc0"
      },
      "execution_count": 11,
      "outputs": [
        {
          "output_type": "stream",
          "name": "stdout",
          "text": [
            "español: 8.9\n",
            "matemáticas: 9.8\n",
            "geografía: 8.7\n",
            "inglés: 7.8\n",
            "ciencias: 4\n",
            "Juan Perez tiene un promedio de : 7.84\n",
            "español: 5.5\n",
            "matemáticas: 8\n",
            "geografía: 7.8\n",
            "inglés: 9\n",
            "ciencias: 8\n",
            "Ana Aranda tiene un promedio de : 7.66\n",
            "español: 7\n",
            "matemáticas: 9\n",
            "geografía: 7.7\n",
            "inglés: 8.8\n",
            "ciencias: 8.8\n",
            "Luis Riojas tiene un promedio de : 8.26\n",
            "español: 7\n",
            "matemáticas: 8\n",
            "geografía: 5\n",
            "inglés: 7\n",
            "ciencias: 8\n",
            "Diana Valenzo tiene un promedio de : 7.0\n",
            "español: 7\n",
            "matemáticas: 7\n",
            "geografía: 8\n",
            "inglés: 9\n",
            "ciencias: 10\n",
            "Lorena Diaz tiene un promedio de : 8.2\n"
          ]
        }
      ]
    },
    {
      "cell_type": "markdown",
      "metadata": {
        "id": "IZn_UEataZP3"
      },
      "source": [
        "# ¡Felicidades!\n",
        "\n",
        "Ahora conoces los conceptos básicos sobre módulos, clases y objetos en Python.\n",
        "\n",
        "Recuerda que siempre puedes volver a esta notebook en caso de que necesites un recordatorio."
      ]
    }
  ],
  "metadata": {
    "colab": {
      "provenance": [],
      "include_colab_link": true
    },
    "kernelspec": {
      "display_name": "Python 3 (ipykernel)",
      "language": "python",
      "name": "python3"
    },
    "language_info": {
      "codemirror_mode": {
        "name": "ipython",
        "version": 3
      },
      "file_extension": ".py",
      "mimetype": "text/x-python",
      "name": "python",
      "nbconvert_exporter": "python",
      "pygments_lexer": "ipython3",
      "version": "3.7.11"
    }
  },
  "nbformat": 4,
  "nbformat_minor": 0
}
